{
 "cells": [
  {
   "cell_type": "markdown",
   "id": "1a7233d6",
   "metadata": {},
   "source": [
    "1) Design model (input, output, forward pass with different layers)\n",
    "2) Contruct loss and optimizer\n",
    "3) training loop\n",
    "    - Forward = compute prediction and loss (Y vs y_pred)\n",
    "    - Backward = compute gradients\n",
    "    - Update weights"
   ]
  },
  {
   "cell_type": "code",
   "execution_count": 1,
   "id": "47e769fd",
   "metadata": {},
   "outputs": [],
   "source": [
    "import torch\n",
    "import torch.nn as nn"
   ]
  },
  {
   "cell_type": "code",
   "execution_count": 2,
   "id": "0b6c6300",
   "metadata": {},
   "outputs": [
    {
     "data": {
      "text/plain": [
       "'1.9.0+cu102'"
      ]
     },
     "execution_count": 2,
     "metadata": {},
     "output_type": "execute_result"
    }
   ],
   "source": [
    "torch.__version__"
   ]
  },
  {
   "cell_type": "code",
   "execution_count": 3,
   "id": "052aed66",
   "metadata": {},
   "outputs": [
    {
     "data": {
      "text/plain": [
       "True"
      ]
     },
     "execution_count": 3,
     "metadata": {},
     "output_type": "execute_result"
    }
   ],
   "source": [
    "torch.cuda.is_available()"
   ]
  },
  {
   "cell_type": "code",
   "execution_count": 5,
   "id": "a4592a9e",
   "metadata": {},
   "outputs": [
    {
     "data": {
      "text/plain": [
       "'NVIDIA GeForce GTX 1080 Ti'"
      ]
     },
     "execution_count": 5,
     "metadata": {},
     "output_type": "execute_result"
    }
   ],
   "source": [
    "torch.cuda.get_device_name(0)"
   ]
  },
  {
   "cell_type": "code",
   "execution_count": 18,
   "id": "7c81d0e0",
   "metadata": {},
   "outputs": [
    {
     "name": "stdout",
     "output_type": "stream",
     "text": [
      "Prediction before training: tensor([1., 2., 3., 4.]), tensor([2., 4., 6., 8.])\n"
     ]
    }
   ],
   "source": [
    "# Linear regression\n",
    "# 4 = w * 2\n",
    "\n",
    "# f = 2 * x\n",
    "\n",
    "X = torch.tensor([1, 2, 3, 4], dtype=torch.float32)\n",
    "Y = torch.tensor([2, 4, 6, 8], dtype=torch.float32)\n",
    "\n",
    "w = torch.tensor(0.0, dtype=torch.float32, requires_grad=True)\n",
    "\n",
    "def forward(x):\n",
    "    return w*x\n",
    "\n",
    "print(f'Prediction before training: {X}, {Y}')"
   ]
  },
  {
   "cell_type": "code",
   "execution_count": 19,
   "id": "dd6b93c5",
   "metadata": {},
   "outputs": [],
   "source": [
    "# loss = MSE\n",
    "def loss(y, y_pred):\n",
    "    return ((y_pred - y)**2).mean()\n",
    "\n",
    "# training\n",
    "learning_rate = 0.01\n",
    "n_iters = 100"
   ]
  },
  {
   "cell_type": "code",
   "execution_count": 20,
   "id": "5fae6e92",
   "metadata": {},
   "outputs": [
    {
     "name": "stdout",
     "output_type": "stream",
     "text": [
      "epoch 0: w=0.300, loss = 30.00000000\n",
      "epoch 10: w=1.665, loss = 1.16278565\n",
      "epoch 20: w=1.934, loss = 0.04506890\n",
      "epoch 30: w=1.987, loss = 0.00174685\n",
      "epoch 40: w=1.997, loss = 0.00006770\n",
      "epoch 50: w=1.999, loss = 0.00000262\n",
      "epoch 60: w=2.000, loss = 0.00000010\n",
      "epoch 70: w=2.000, loss = 0.00000000\n",
      "epoch 80: w=2.000, loss = 0.00000000\n",
      "epoch 90: w=2.000, loss = 0.00000000\n"
     ]
    }
   ],
   "source": [
    "for epoch in range(n_iters):\n",
    "    # predict\n",
    "    y_pred = forward(X)\n",
    "    \n",
    "    # loss\n",
    "    l = loss(Y, y_pred)\n",
    "    \n",
    "    # Backward\n",
    "    l.backward()\n",
    "    \n",
    "    # update weight\n",
    "    with torch.no_grad():\n",
    "        w -= learning_rate*w.grad\n",
    "    \n",
    "    # release the gradients\n",
    "    w.grad.zero_()\n",
    "    \n",
    "    if epoch % 10 == 0:\n",
    "        print(f'epoch {epoch}: w={w.item():.3f}, loss = {l.item():.8f}')"
   ]
  },
  {
   "cell_type": "code",
   "execution_count": 21,
   "id": "0c29b570",
   "metadata": {},
   "outputs": [
    {
     "name": "stdout",
     "output_type": "stream",
     "text": [
      "tensor(2.0000, requires_grad=True)\n"
     ]
    }
   ],
   "source": [
    "print(w)"
   ]
  },
  {
   "cell_type": "code",
   "execution_count": null,
   "id": "e45713e5",
   "metadata": {},
   "outputs": [],
   "source": [
    "Y = W * X\n",
    "\n",
    "X = x1 ... xn\n",
    "    x2 ... x2n\n",
    "    .........\n",
    "    xn ... xnn\n",
    "W = w1\n",
    "    w2\n",
    "    ...\n",
    "    wn\n",
    "Y = y1\n",
    "    y2\n",
    "    ...\n",
    "    yn\n",
    "    \n",
    "Y(1, n) = W(1, n) * X(n, n)"
   ]
  }
 ],
 "metadata": {
  "kernelspec": {
   "display_name": "Python 3 (ipykernel)",
   "language": "python",
   "name": "python3"
  },
  "language_info": {
   "codemirror_mode": {
    "name": "ipython",
    "version": 3
   },
   "file_extension": ".py",
   "mimetype": "text/x-python",
   "name": "python",
   "nbconvert_exporter": "python",
   "pygments_lexer": "ipython3",
   "version": "3.8.10"
  }
 },
 "nbformat": 4,
 "nbformat_minor": 5
}
